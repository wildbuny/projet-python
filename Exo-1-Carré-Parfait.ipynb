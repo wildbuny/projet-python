{
 "cells": [
  {
   "cell_type": "code",
   "execution_count": 8,
   "metadata": {},
   "outputs": [
    {
     "name": "stdout",
     "output_type": "stream",
     "text": [
      "donner a  1\n",
      "donner b  9\n",
      "30\n"
     ]
    }
   ],
   "source": [
    "import math\n",
    "import operator\n",
    "from functools import reduce\n",
    "\n",
    "def test_carre(n):\n",
    "    some=0;\n",
    "    borne=math.sqrt(n)\n",
    "    m=0;i=2;\n",
    "    while i<int(borne)+1:\n",
    "        if i*i == n:\n",
    "            m=1;\n",
    "        i += 1;\n",
    "    if m==1:\n",
    "         some=1\n",
    "    return some\n",
    "\n",
    "def partition(sett):\n",
    "    if len(sett) == 1:\n",
    "        yield [ sett ]\n",
    "        return\n",
    "\n",
    "    first = sett[0]\n",
    "    for i in partition(sett[1:]):\n",
    "        for n,subset in enumerate(i):\n",
    "            yield [[first] + subset]\n",
    "        yield  [ [first] ] +i\n",
    "\n",
    "def product(s):\n",
    "    if s:\n",
    "        return reduce(operator.mul, s)\n",
    "    \n",
    "x = input(\"donner a  \");\n",
    "y = input(\"donner b  \");\n",
    "x = int(x)\n",
    "y = int(y)\n",
    "list=[]\n",
    "for i in range(x,y+1):\n",
    "    list.append(i)\n",
    "#print(list)\n",
    "\n",
    "t=[]\n",
    "for n,p in enumerate(partition(list), 1):\n",
    "        t=t + sorted(p);\n",
    "l = []\n",
    "for i in t:\n",
    "    if i not in l:\n",
    "        l.append(i)\n",
    "#print(l)\n",
    "\n",
    "d=1;\n",
    "h=0;\n",
    "for i in range(0,len(l)):\n",
    "    d=d*product(l[i]);\n",
    "    if (test_carre(d)) == 1:\n",
    "        h=h+1;\n",
    "    d=1;\n",
    "print(h)   \n"
   ]
  },
  {
   "cell_type": "code",
   "execution_count": null,
   "metadata": {},
   "outputs": [],
   "source": []
  }
 ],
 "metadata": {
  "kernelspec": {
   "display_name": "Python 3",
   "language": "python",
   "name": "python3"
  },
  "language_info": {
   "codemirror_mode": {
    "name": "ipython",
    "version": 3
   },
   "file_extension": ".py",
   "mimetype": "text/x-python",
   "name": "python",
   "nbconvert_exporter": "python",
   "pygments_lexer": "ipython3",
   "version": "3.5.2"
  }
 },
 "nbformat": 4,
 "nbformat_minor": 2
}
