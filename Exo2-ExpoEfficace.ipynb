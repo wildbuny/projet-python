{
 "cells": [
  {
   "cell_type": "markdown",
   "metadata": {},
   "source": [
    "# rapport\n",
    "## llkjml\n",
    "\n",
    "mojlkkvkjnkl,f"
   ]
  },
  {
   "cell_type": "code",
   "execution_count": 2,
   "metadata": {},
   "outputs": [
    {
     "name": "stdout",
     "output_type": "stream",
     "text": [
      "donner la puissance du nombre20\n",
      "le nbre min  de multiplications pour calculer n^k est  5\n",
      "resultat de la somme donnée est  1630\n"
     ]
    }
   ],
   "source": [
    "def prod(k):\n",
    "    def méthode1(n):\n",
    "        l=[];\n",
    "        l.append(1);\n",
    "        som=2;\n",
    "        while som < int(k):\n",
    "            l.append(som)\n",
    "            i=som;j=som;t=1;\n",
    "            while i + j>int(k):\n",
    "                j = l[-t];\n",
    "                t += 1;\n",
    "            som = i+j;\n",
    "        n=len(l)\n",
    "        return n\n",
    "    def méthode2(n):\n",
    "        l=[]; \n",
    "        l.append(1);\n",
    "        l.append(2);\n",
    "        som=3;\n",
    "        while som < int(k):\n",
    "            l.append(som)\n",
    "            i=som;j=som;t=1;\n",
    "            while i + j>int(k):\n",
    "                j = l[-t];\n",
    "                t += 1;\n",
    "            som = i+j;\n",
    "        m=len(l)\n",
    "        return m\n",
    "    m=méthode1(k);\n",
    "    n=méthode2(k);\n",
    "    if n>m:\n",
    "        nb_min=m\n",
    "    else:\n",
    "        nb_min=n\n",
    "    return nb_min\n",
    "\n",
    "k=input(\"Donner la puissanche du nombre n s'il vous plaît\")   \n",
    "print(\"Le nombre minimum de multiplications à faire est \",prod(k))\n",
    "\n",
    "\n",
    "somme=0;\n",
    "for i in range(1,200):\n",
    "    somme += prod(i)\n",
    "print(\"Le résultat de la somme est: \",somme)\n",
    "\n",
    "\n"
   ]
  },
  {
   "cell_type": "code",
   "execution_count": null,
   "metadata": {},
   "outputs": [],
   "source": []
  }
 ],
 "metadata": {
  "kernelspec": {
   "display_name": "Python 3",
   "language": "python",
   "name": "python3"
  },
  "language_info": {
   "codemirror_mode": {
    "name": "ipython",
    "version": 3
   },
   "file_extension": ".py",
   "mimetype": "text/x-python",
   "name": "python",
   "nbconvert_exporter": "python",
   "pygments_lexer": "ipython3",
   "version": "3.5.2"
  }
 },
 "nbformat": 4,
 "nbformat_minor": 2
}
